{
 "cells": [
  {
   "cell_type": "code",
   "execution_count": 1,
   "id": "495ed089",
   "metadata": {
    "colab": {
     "base_uri": "https://localhost:8080/"
    },
    "executionInfo": {
     "elapsed": 6104,
     "status": "ok",
     "timestamp": 1691601259476,
     "user": {
      "displayName": "Alexander Grigorev",
      "userId": "16452691923176614666"
     },
     "user_tz": -300
    },
    "id": "495ed089",
    "outputId": "a6201039-82fc-4514-b9e9-f733c7c827c8"
   },
   "outputs": [],
   "source": [
    "#!pip install -q openai"
   ]
  },
  {
   "cell_type": "code",
   "execution_count": 2,
   "id": "9250500e",
   "metadata": {
    "executionInfo": {
     "elapsed": 284,
     "status": "ok",
     "timestamp": 1691601348788,
     "user": {
      "displayName": "Alexander Grigorev",
      "userId": "16452691923176614666"
     },
     "user_tz": -300
    },
    "id": "9250500e"
   },
   "outputs": [],
   "source": [
    "import os\n",
    "\n",
    "import openai\n",
    "import tiktoken"
   ]
  },
  {
   "cell_type": "code",
   "execution_count": 3,
   "id": "0b7ecc41",
   "metadata": {
    "executionInfo": {
     "elapsed": 372,
     "status": "ok",
     "timestamp": 1691601444451,
     "user": {
      "displayName": "Alexander Grigorev",
      "userId": "16452691923176614666"
     },
     "user_tz": -300
    },
    "id": "0b7ecc41"
   },
   "outputs": [],
   "source": [
    "model = \"gpt-4\"   # 8192 токена\n",
    "max_tokens =  4000\n",
    "temperature = 0.3\n",
    "token_limit = 8000"
   ]
  },
  {
   "cell_type": "code",
   "execution_count": 4,
   "id": "d2756e3c",
   "metadata": {},
   "outputs": [],
   "source": [
    "# функция подсчета числа токенов\n",
    "def num_tokens_from_messages(messages, model=model):\n",
    "    encoding= tiktoken.encoding_for_model(model)\n",
    "    num_tokens = 0\n",
    "    for message in messages:\n",
    "        num_tokens += 4  # каждое сообщение следует за <im_start>{role/name}\\n{content}<im_end>\\n\n",
    "        for key, value in message.items():\n",
    "            num_tokens += len(encoding.encode(value))\n",
    "            if key == \"name\":  # если есть имя, то роль опускается\n",
    "                num_tokens += -1  # роль всегда обязательна и всегда 1 токен\n",
    "    num_tokens += 2  # в каждом ответе используется <im_start> помощник\n",
    "    return num_tokens"
   ]
  },
  {
   "cell_type": "code",
   "execution_count": 5,
   "id": "303ffba7",
   "metadata": {},
   "outputs": [],
   "source": [
    "# настройка роли асистента\n",
    "SYSTEM = \"\"\"  Вы полезный и умный помощник магазина Ашан.\n",
    "Вы умеете по вопросу клиента очень точно определять его тему.\n",
    "Проичитав сообщение от клиента вы точно можете сказать к какой теме данное сообщение относится.\n",
    "Вы може определить основной интент запроса.\n",
    "\"\"\"\n",
    "\n",
    "ASSISTANT = \"\"\"\n",
    " Определите тему сообщения:\n",
    "- Если тема сообщения касается возврата некачественного продовольственного товара, то сообщите: \"возврат продовольственного\".\n",
    "- Если тема сообщения касается возврата некачественного неподовольственного товара, то сообщите: \"возврат непродовольственного\".\n",
    "- Если тема относится к товарам-исключениям, предметы личной гигиены и парфюмерно-косметические товары; швейные и трикотажные изделия; бытовая химия, пестициды и агрохимикаты; растения, то сообщите: \"возврат исключения\".\n",
    "- Если тема об условиях доставки товара, то сообщите: \"условия доставки\".\n",
    "- Если тема сообщения о стоимости бесплатной доставки, то сообщите \"бесплатная доставка\".\n",
    "- Если тема сообщения не соотвествует выше перечисленным, сообщите: \"другая тема\".\n",
    "\"\"\"\n",
    "\n",
    "messages=[\n",
    "    {\"role\": \"system\", \"content\": SYSTEM},\n",
    "    {\"role\": \"assistant\", \"content\": ASSISTANT}\n",
    "]"
   ]
  },
  {
   "cell_type": "code",
   "execution_count": 6,
   "id": "64761c3e",
   "metadata": {
    "colab": {
     "base_uri": "https://localhost:8080/"
    },
    "executionInfo": {
     "elapsed": 237315,
     "status": "ok",
     "timestamp": 1691606592552,
     "user": {
      "displayName": "Alexander Grigorev",
      "userId": "16452691923176614666"
     },
     "user_tz": -300
    },
    "id": "64761c3e",
    "outputId": "58135cd9-d933-4ea1-f025-6150e1872f26",
    "scrolled": false
   },
   "outputs": [
    {
     "name": "stdout",
     "output_type": "stream",
     "text": [
      "Ввод: добрый день!\n",
      "Токенов: 347\n",
      "\n",
      "GPT: Тема сообщения: \"Приветствие\"\n",
      "\n",
      "Ввод: хочу вернуть товар\n",
      "Токенов: 377\n",
      "\n",
      "GPT: Тема сообщения: \"Возврат товара\"\n",
      "\n",
      "Ввод: я купил неисправный миксер, что делать?\n",
      "Токенов: 417\n",
      "\n",
      "GPT: Тема сообщения: \"возврат непродовольственного\"\n",
      "\n",
      "Ввод: вчера доставили чипсы с порванной упаковкой\n",
      "Токенов: 468\n",
      "\n",
      "GPT: Тема сообщения: \"возврат продовольственного\"\n",
      "\n",
      "Ввод: купила помаду, упаковка была вскрыта\n",
      "Токенов: 513\n",
      "\n",
      "GPT: Тема сообщения: \"возврат исключения\"\n",
      "\n",
      "Ввод: пока\n",
      "Токенов: 540\n",
      "\n",
      "GPT: Тема сообщения: \"Прощание\"\n",
      "\n"
     ]
    }
   ],
   "source": [
    "content = ''\n",
    "while not 'пока' in content.lower():\n",
    "    content = input(\"Ввод: \").strip()\n",
    "    messages.append({\"role\": \"user\", \"content\": content})\n",
    "    \n",
    "    conv_history_tokens = num_tokens_from_messages(messages)\n",
    "    print(f\"Токенов: {conv_history_tokens}\")\n",
    "    while conv_history_tokens + max_tokens >= token_limit:\n",
    "        del messages[2]\n",
    "        conv_history_tokens = num_tokens_from_messages(messages)\n",
    "\n",
    "    completion = openai.ChatCompletion.create(\n",
    "        model=model,\n",
    "        messages=messages,\n",
    "        max_tokens = max_tokens,\n",
    "        temperature = temperature\n",
    "    )\n",
    "    chat_response = completion.choices[0].message.content\n",
    "\n",
    "    print(f'''\n",
    "GPT: {chat_response}\n",
    "''')\n",
    "\n",
    "    messages.append({\"role\": \"assistant\", \"content\": chat_response})"
   ]
  },
  {
   "cell_type": "code",
   "execution_count": 7,
   "id": "f0941534",
   "metadata": {},
   "outputs": [
    {
     "data": {
      "text/plain": [
       "[{'role': 'system',\n",
       "  'content': '  Вы полезный и умный помощник магазина Ашан.\\nВы умеете по вопросу клиента очень точно определять его тему.\\nПроичитав сообщение от клиента вы точно можете сказать к какой теме данное сообщение относится.\\nВы може определить основной интент запроса.\\n'},\n",
       " {'role': 'assistant',\n",
       "  'content': '\\n Определите тему сообщения:\\n- Если тема сообщения касается возврата некачественного продовольственного товара, то сообщите: \"возврат продовольственного\".\\n- Если тема сообщения касается возврата некачественного неподовольственного товара, то сообщите: \"возврат непродовольственного\".\\n- Если тема относится к товарам-исключениям, предметы личной гигиены и парфюмерно-косметические товары; швейные и трикотажные изделия; бытовая химия, пестициды и агрохимикаты; растения, то сообщите: \"возврат исключения\".\\n- Если тема сообщения другая, сообщите: \"другая тема\".\\n'},\n",
       " {'role': 'user', 'content': 'добрый день!'},\n",
       " {'role': 'assistant', 'content': 'Тема сообщения: \"Приветствие\"'},\n",
       " {'role': 'user', 'content': 'хочу вернуть товар'},\n",
       " {'role': 'assistant', 'content': 'Тема сообщения: \"Возврат товара\"'},\n",
       " {'role': 'user', 'content': 'я купил неисправный миксер, что делать?'},\n",
       " {'role': 'assistant',\n",
       "  'content': 'Тема сообщения: \"возврат непродовольственного\"'},\n",
       " {'role': 'user', 'content': 'вчера доставили чипсы с порванной упаковкой'},\n",
       " {'role': 'assistant',\n",
       "  'content': 'Тема сообщения: \"возврат продовольственного\"'},\n",
       " {'role': 'user', 'content': 'купила помаду, упаковка была вскрыта'},\n",
       " {'role': 'assistant', 'content': 'Тема сообщения: \"возврат исключения\"'},\n",
       " {'role': 'user', 'content': 'пока'},\n",
       " {'role': 'assistant', 'content': 'Тема сообщения: \"Прощание\"'}]"
      ]
     },
     "execution_count": 7,
     "metadata": {},
     "output_type": "execute_result"
    }
   ],
   "source": [
    "messages"
   ]
  },
  {
   "cell_type": "code",
   "execution_count": null,
   "id": "7191f8cb",
   "metadata": {},
   "outputs": [],
   "source": []
  }
 ],
 "metadata": {
  "colab": {
   "provenance": []
  },
  "kernelspec": {
   "display_name": "Python 3 (ipykernel)",
   "language": "python",
   "name": "python3"
  },
  "language_info": {
   "codemirror_mode": {
    "name": "ipython",
    "version": 3
   },
   "file_extension": ".py",
   "mimetype": "text/x-python",
   "name": "python",
   "nbconvert_exporter": "python",
   "pygments_lexer": "ipython3",
   "version": "3.11.4"
  },
  "toc": {
   "base_numbering": 1,
   "nav_menu": {},
   "number_sections": true,
   "sideBar": true,
   "skip_h1_title": false,
   "title_cell": "Table of Contents",
   "title_sidebar": "Contents",
   "toc_cell": false,
   "toc_position": {},
   "toc_section_display": true,
   "toc_window_display": false
  },
  "varInspector": {
   "cols": {
    "lenName": 16,
    "lenType": 16,
    "lenVar": 40
   },
   "kernels_config": {
    "python": {
     "delete_cmd_postfix": "",
     "delete_cmd_prefix": "del ",
     "library": "var_list.py",
     "varRefreshCmd": "print(var_dic_list())"
    },
    "r": {
     "delete_cmd_postfix": ") ",
     "delete_cmd_prefix": "rm(",
     "library": "var_list.r",
     "varRefreshCmd": "cat(var_dic_list()) "
    }
   },
   "types_to_exclude": [
    "module",
    "function",
    "builtin_function_or_method",
    "instance",
    "_Feature"
   ],
   "window_display": false
  }
 },
 "nbformat": 4,
 "nbformat_minor": 5
}
