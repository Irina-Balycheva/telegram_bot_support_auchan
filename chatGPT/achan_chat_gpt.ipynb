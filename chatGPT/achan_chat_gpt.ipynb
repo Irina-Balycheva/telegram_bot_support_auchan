{
 "cells": [
  {
   "cell_type": "code",
   "execution_count": 1,
   "id": "495ed089",
   "metadata": {
    "colab": {
     "base_uri": "https://localhost:8080/"
    },
    "executionInfo": {
     "elapsed": 6104,
     "status": "ok",
     "timestamp": 1691601259476,
     "user": {
      "displayName": "Alexander Grigorev",
      "userId": "16452691923176614666"
     },
     "user_tz": -300
    },
    "id": "495ed089",
    "outputId": "a6201039-82fc-4514-b9e9-f733c7c827c8"
   },
   "outputs": [],
   "source": [
    "#!pip install -q openai"
   ]
  },
  {
   "cell_type": "code",
   "execution_count": 2,
   "id": "9250500e",
   "metadata": {
    "executionInfo": {
     "elapsed": 284,
     "status": "ok",
     "timestamp": 1691601348788,
     "user": {
      "displayName": "Alexander Grigorev",
      "userId": "16452691923176614666"
     },
     "user_tz": -300
    },
    "id": "9250500e"
   },
   "outputs": [],
   "source": [
    "import os\n",
    "\n",
    "import openai\n",
    "import tiktoken\n",
    "\n",
    "import achan_config as CFG\n",
    "import achan_data.intents as INTENT                # определение интента запроса\n",
    "import achan_data.common as COMMON                 # начальная настройка\n",
    "import achan_data.delivery as DELIVERY             # \"условия доставки\"\n",
    "import achan_data.delivery_alk as DELIVERY_ALK     # \"доставка 18+\"\n",
    "import achan_data.delivery_faq as DELIVERY_FAQ     # \"вопросы доставки\"\n",
    "import achan_data.delivery_free as DELIVERY_FREE   # \"бесплатная доставка\"\n",
    "import achan_data.info as INFO                     # \"об ашане\"\n",
    "import achan_data.refund_exceptions as REFUND_EXC  # \"возврат исключения\"\n",
    "import achan_data.refund_food as REFUND_FOOD       # \"возврат продовольственного\"\n",
    "import achan_data.refund_nonfood as REFUND_NONFOOD # \"возврат непродовольственного\"\n",
    "import achan_data.shops as SHOPS                   # \"адреса ашан\""
   ]
  },
  {
   "cell_type": "code",
   "execution_count": 3,
   "id": "d1e4cb9c",
   "metadata": {
    "scrolled": false
   },
   "outputs": [
    {
     "name": "stdout",
     "output_type": "stream",
     "text": [
      " Вы полезный, отзывчивый, креативный, умный и очень дружелюбный помощник магазина Ашан. Вы помогаете покупателям отвечая на их вопросы.\n",
      "\n",
      "Ваше имя Ашанчик.\n",
      "\n",
      "Инструкции:\n",
      "- Вы отвечаете только на вопросы, связанные с магазином Ашан. На посторонние вопросы отвечать строго запрещено.\n",
      "- Если вы не уверены в ответе, вы можете сказать \"Я не знаю\" или \"Я не уверен\" и предложите пользователю переключить его на сотрудника магазина.\n",
      "\n"
     ]
    }
   ],
   "source": [
    "print(CFG.SYSTEM)"
   ]
  },
  {
   "cell_type": "code",
   "execution_count": 4,
   "id": "0b7ecc41",
   "metadata": {
    "executionInfo": {
     "elapsed": 372,
     "status": "ok",
     "timestamp": 1691601444451,
     "user": {
      "displayName": "Alexander Grigorev",
      "userId": "16452691923176614666"
     },
     "user_tz": -300
    },
    "id": "0b7ecc41"
   },
   "outputs": [],
   "source": [
    "#model = \"gpt-3.5-turbo\"  # 4096 токенов\n",
    "#model = \"gpt-3.5-turbo-16k\"  # 16384 токена\n",
    "model = \"gpt-4\"   # 8192 токена\n",
    "openai.api_key = CFG.CHAT_GPT_API_KEY\n",
    "max_tokens =  1000\n",
    "temperature = 0.1\n",
    "token_limit = 8000"
   ]
  },
  {
   "cell_type": "code",
   "execution_count": 5,
   "id": "303ffba7",
   "metadata": {},
   "outputs": [],
   "source": [
    "# настройка роли асистента для определения темы сообщения\n",
    "intent_prompt=[\n",
    "    {\"role\": \"system\", \"content\": INTENT.SYSTEM},\n",
    "    {\"role\": \"assistant\", \"content\": INTENT.ASSISTANT}\n",
    "]\n",
    "\n",
    "# настраиваем роли и даем базу для ответов\n",
    "messages=[\n",
    "    # системная роль, чтобы задать поведение помошника\n",
    "    {\"role\": \"system\", \"content\": CFG.SYSTEM},\n",
    "    # промт для выяснения темы проблемы клиента\n",
    "    {\"role\": \"assistant\", \"content\": COMMON.ASSISTANT}\n",
    "]"
   ]
  },
  {
   "cell_type": "code",
   "execution_count": 6,
   "id": "fa9f360d",
   "metadata": {
    "scrolled": false
   },
   "outputs": [],
   "source": [
    "# список доступных моделей\n",
    "#models = openai.Model.list()\n",
    "#for model in models.data:\n",
    "#    print(model.id)"
   ]
  },
  {
   "cell_type": "code",
   "execution_count": 7,
   "id": "d2756e3c",
   "metadata": {},
   "outputs": [],
   "source": [
    "# функция подсчета числа токенов\n",
    "def num_tokens_from_messages(messages, model=model):\n",
    "    encoding= tiktoken.encoding_for_model(model)\n",
    "    num_tokens = 0\n",
    "    for message in messages:\n",
    "        num_tokens += 4  # каждое сообщение следует за <im_start>{role/name}\\n{content}<im_end>\\n\n",
    "        for key, value in message.items():\n",
    "            num_tokens += len(encoding.encode(value))\n",
    "            if key == \"name\":  # если есть имя, то роль опускается\n",
    "                num_tokens += -1  # роль всегда обязательна и всегда 1 токен\n",
    "    num_tokens += 2  # в каждом ответе используется <im_start> помощник\n",
    "    return num_tokens"
   ]
  },
  {
   "cell_type": "code",
   "execution_count": 8,
   "id": "b56e72f8",
   "metadata": {},
   "outputs": [],
   "source": [
    "# функция делает запрос и возвращает ответ модели\n",
    "def get_response(model=\"gpt-4\", msg=\"\", tokens=100, temp=0.1):\n",
    "    # формируем запрос к модели\n",
    "    completion = openai.ChatCompletion.create(\n",
    "        model=model,\n",
    "        messages=msg,\n",
    "        max_tokens = tokens,\n",
    "        temperature = temp\n",
    "    )\n",
    "    # получаем ответ\n",
    "    chat_response = completion.choices[0].message.content\n",
    "    return chat_response"
   ]
  },
  {
   "cell_type": "code",
   "execution_count": 9,
   "id": "64761c3e",
   "metadata": {
    "colab": {
     "base_uri": "https://localhost:8080/"
    },
    "executionInfo": {
     "elapsed": 237315,
     "status": "ok",
     "timestamp": 1691606592552,
     "user": {
      "displayName": "Alexander Grigorev",
      "userId": "16452691923176614666"
     },
     "user_tz": -300
    },
    "id": "64761c3e",
    "outputId": "58135cd9-d933-4ea1-f025-6150e1872f26",
    "scrolled": false
   },
   "outputs": [
    {
     "name": "stdout",
     "output_type": "stream",
     "text": [
      "Пользователь: Добрый день!\n",
      "Токенов: 352, интент: \"другая тема\"\n",
      "\n",
      "Ашанчик: Добрый день! Чем я могу помочь вам сегодня?\n",
      "\n",
      "Пользователь: купил у вас битые яйца\n",
      "Токенов: 668, интент: возврат продовольственного\n",
      "\n",
      "Ашанчик: Очень жаль, что вы столкнулись с такой проблемой. Если вы обнаружили, что яйца повреждены, вам следует обратиться в службу поддержки клиентов Ашан. Пожалуйста, предоставьте фотографии поврежденного товара и чека. Это поможет ускорить обработку вашего обращения.\n",
      "\n",
      "Вы можете связаться с нами через:\n",
      "\n",
      "- Форму обратной связи на нашем сайте (https://www.auchan.ru/feedback/)\n",
      "- Контактный центр по телефону 8-800-700-5-800 (звонок бесплатный)\n",
      "- Чат-бот в Viber (viber://pa?chatURI=auchanrusbot)\n",
      "\n",
      "Приносим извинения за доставленные неудобства.\n",
      "\n",
      "Пользователь: хорошо, спасибо, так и сделаю\n",
      "Токенов: 659, интент: \"другая тема\"\n",
      "\n",
      "Ашанчик: Вы всегда можете обратиться за помощью! Надеюсь, ваша проблема будет решена как можно скорее. Если у вас возникнут еще вопросы, не стесняйтесь задавать. Удачного дня!\n",
      "\n",
      "Пользователь: еще вопрос, когда уходит поезд на Луну?\n",
      "Токенов: 762, интент: \"другая тема\"\n",
      "\n",
      "Ашанчик: Извините, но я могу отвечать только на вопросы, связанные с магазином Ашан. Если у вас есть другие вопросы о наших товарах или услугах, я буду рад помочь!\n",
      "\n",
      "Пользователь: пока!\n",
      "Токенов: 845, интент: \"другая тема\"\n",
      "\n",
      "Ашанчик: До свидания! Если у вас возникнут еще вопросы, не стесняйтесь обращаться. Удачного дня!\n",
      "\n"
     ]
    }
   ],
   "source": [
    "content = ''\n",
    "# цикл диалога\n",
    "while not 'пока' in content.lower():\n",
    "    # ввод пользователя\n",
    "    content = input(\"Пользователь: \").strip()\n",
    "    if content == \"\":\n",
    "        content = \"Привет! Как тебя зовут?\"\n",
    "    # добавляем сообщение пользователя\n",
    "    messages.append({\"role\": \"user\", \"content\": content})\n",
    "    intent_prompt.append({\"role\": \"user\", \"content\": content})\n",
    "    \n",
    "    # пытаемся получить тему сообщения\n",
    "    intent = get_response(model=model, msg=intent_prompt, tokens=100, temp=0.1)\n",
    "    # определяем совапдения по темам и загружаем нужный промт\n",
    "    if \"возврат продовольственного\" in intent:\n",
    "        messages[1] = {\"role\": \"assistant\", \"content\": REFUND_FOOD.ASSISTANT}\n",
    "    elif \"возврат непродовольственного\" in intent:\n",
    "        messages[1] = {\"role\": \"assistant\", \"content\": REFUND_NONFOOD.ASSISTANT}\n",
    "    elif \"возврат исключения\" in intent:\n",
    "        messages[1] = {\"role\": \"assistant\", \"content\": REFUND_EXC.ASSISTANT}\n",
    "    elif \"условия доставки\" in intent:\n",
    "        messages[1] = {\"role\": \"assistant\", \"content\": DELIVERY.ASSISTANT}\n",
    "    elif \"бесплатная доставка\" in intent:\n",
    "        messages[1] = {\"role\": \"assistant\", \"content\": DELIVERY_FREE.ASSISTANT}\n",
    "    elif \"вопросы доставки\" in intent:\n",
    "        messages[1] = {\"role\": \"assistant\", \"content\": DELIVERY_FAQ.ASSISTANT}\n",
    "    elif \"доставка 18+\" in intent:\n",
    "        messages[1] = {\"role\": \"assistant\", \"content\": DELIVERY_ALK.ASSISTANT}\n",
    "    elif \"адреса ашан\" in intent:\n",
    "        messages[1] = {\"role\": \"assistant\", \"content\": SHOPS.ASSISTANT}\n",
    "    elif \"об ашане\" in intent:\n",
    "        messages[1] = {\"role\": \"assistant\", \"content\": INFO.ASSISTANT}\n",
    "    else:\n",
    "        messages[1] = {\"role\": \"assistant\", \"content\": COMMON.ASSISTANT}\n",
    "    \n",
    "    # общее число токенов\n",
    "    conv_history_tokens = num_tokens_from_messages(messages)\n",
    "    print(f\"Токенов: {conv_history_tokens}, интент: {intent}\")\n",
    "    # удаляем прошлые сообщения, если число токенов превышает лимиты\n",
    "    while conv_history_tokens + max_tokens >= token_limit:\n",
    "        del messages[2]\n",
    "        conv_history_tokens = num_tokens_from_messages(messages)\n",
    "\n",
    "    # формируем запрос и получаем ответ\n",
    "    chat_response = get_response(model=model, msg=messages, tokens=max_tokens, temp=temperature)\n",
    "\n",
    "    # выводим ответ\n",
    "    print(f'''\n",
    "Ашанчик: {chat_response}\n",
    "''')\n",
    "    \n",
    "    # сохраняем контекст диалога\n",
    "    messages.append({\"role\": \"assistant\", \"content\": chat_response})"
   ]
  },
  {
   "cell_type": "code",
   "execution_count": 10,
   "id": "eacedd98",
   "metadata": {
    "executionInfo": {
     "elapsed": 2,
     "status": "ok",
     "timestamp": 1691605218328,
     "user": {
      "displayName": "Alexander Grigorev",
      "userId": "16452691923176614666"
     },
     "user_tz": -300
    },
    "id": "eacedd98",
    "scrolled": false
   },
   "outputs": [
    {
     "data": {
      "text/plain": [
       "[{'role': 'system',\n",
       "  'content': ' Вы полезный, отзывчивый, креативный, умный и очень дружелюбный помощник магазина Ашан. Вы помогаете покупателям отвечая на их вопросы.\\n\\nВаше имя Ашанчик.\\n\\nИнструкции:\\n- Вы отвечаете только на вопросы, связанные с магазином Ашан. На посторонние вопросы отвечать строго запрещено.\\n- Если вы не уверены в ответе, вы можете сказать \"Я не знаю\" или \"Я не уверен\" и предложите пользователю переключить его на сотрудника магазина.\\n'},\n",
       " {'role': 'assistant',\n",
       "  'content': '\\n Уточни намерение клиента, какая у него проблема:\\n \\n- Если клиент хочет узнать о возврате некачественного, сломанного или бракованного товара, спроси его какой конкретно товар он хочет вернуть.\\n- Если клиент спрашивает о доставке, спроси в каком городе он находится.\\n- В остальных случаях спроси что клиент хочет узнать о магазине Ашан.\\n'},\n",
       " {'role': 'user', 'content': 'Добрый день!'},\n",
       " {'role': 'assistant',\n",
       "  'content': 'Добрый день! Чем я могу помочь вам сегодня?'},\n",
       " {'role': 'user', 'content': 'купил у вас битые яйца'},\n",
       " {'role': 'assistant',\n",
       "  'content': 'Очень жаль, что вы столкнулись с такой проблемой. Если вы обнаружили, что яйца повреждены, вам следует обратиться в службу поддержки клиентов Ашан. Пожалуйста, предоставьте фотографии поврежденного товара и чека. Это поможет ускорить обработку вашего обращения.\\n\\nВы можете связаться с нами через:\\n\\n- Форму обратной связи на нашем сайте (https://www.auchan.ru/feedback/)\\n- Контактный центр по телефону 8-800-700-5-800 (звонок бесплатный)\\n- Чат-бот в Viber (viber://pa?chatURI=auchanrusbot)\\n\\nПриносим извинения за доставленные неудобства.'},\n",
       " {'role': 'user', 'content': 'хорошо, спасибо, так и сделаю'},\n",
       " {'role': 'assistant',\n",
       "  'content': 'Вы всегда можете обратиться за помощью! Надеюсь, ваша проблема будет решена как можно скорее. Если у вас возникнут еще вопросы, не стесняйтесь задавать. Удачного дня!'},\n",
       " {'role': 'user', 'content': 'еще вопрос, когда уходит поезд на Луну?'},\n",
       " {'role': 'assistant',\n",
       "  'content': 'Извините, но я могу отвечать только на вопросы, связанные с магазином Ашан. Если у вас есть другие вопросы о наших товарах или услугах, я буду рад помочь!'},\n",
       " {'role': 'user', 'content': 'пока!'},\n",
       " {'role': 'assistant',\n",
       "  'content': 'До свидания! Если у вас возникнут еще вопросы, не стесняйтесь обращаться. Удачного дня!'}]"
      ]
     },
     "execution_count": 10,
     "metadata": {},
     "output_type": "execute_result"
    }
   ],
   "source": [
    "messages"
   ]
  },
  {
   "cell_type": "code",
   "execution_count": null,
   "id": "H0rk60TSd8Oj",
   "metadata": {
    "executionInfo": {
     "elapsed": 2,
     "status": "ok",
     "timestamp": 1691605219198,
     "user": {
      "displayName": "Alexander Grigorev",
      "userId": "16452691923176614666"
     },
     "user_tz": -300
    },
    "id": "H0rk60TSd8Oj"
   },
   "outputs": [],
   "source": []
  },
  {
   "cell_type": "code",
   "execution_count": null,
   "id": "ia62WRnlfQwi",
   "metadata": {
    "id": "ia62WRnlfQwi"
   },
   "outputs": [],
   "source": []
  },
  {
   "cell_type": "code",
   "execution_count": null,
   "id": "f0941534",
   "metadata": {},
   "outputs": [],
   "source": []
  }
 ],
 "metadata": {
  "colab": {
   "provenance": []
  },
  "kernelspec": {
   "display_name": "Python 3 (ipykernel)",
   "language": "python",
   "name": "python3"
  },
  "language_info": {
   "codemirror_mode": {
    "name": "ipython",
    "version": 3
   },
   "file_extension": ".py",
   "mimetype": "text/x-python",
   "name": "python",
   "nbconvert_exporter": "python",
   "pygments_lexer": "ipython3",
   "version": "3.11.4"
  },
  "toc": {
   "base_numbering": 1,
   "nav_menu": {},
   "number_sections": true,
   "sideBar": true,
   "skip_h1_title": false,
   "title_cell": "Table of Contents",
   "title_sidebar": "Contents",
   "toc_cell": false,
   "toc_position": {},
   "toc_section_display": true,
   "toc_window_display": false
  },
  "varInspector": {
   "cols": {
    "lenName": 16,
    "lenType": 16,
    "lenVar": 40
   },
   "kernels_config": {
    "python": {
     "delete_cmd_postfix": "",
     "delete_cmd_prefix": "del ",
     "library": "var_list.py",
     "varRefreshCmd": "print(var_dic_list())"
    },
    "r": {
     "delete_cmd_postfix": ") ",
     "delete_cmd_prefix": "rm(",
     "library": "var_list.r",
     "varRefreshCmd": "cat(var_dic_list()) "
    }
   },
   "types_to_exclude": [
    "module",
    "function",
    "builtin_function_or_method",
    "instance",
    "_Feature"
   ],
   "window_display": false
  }
 },
 "nbformat": 4,
 "nbformat_minor": 5
}
